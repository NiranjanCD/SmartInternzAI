{
 "cells": [
  {
   "cell_type": "code",
   "execution_count": 34,
   "id": "2a7e939c",
   "metadata": {},
   "outputs": [
    {
     "name": "stdout",
     "output_type": "stream",
     "text": [
      "          0         1         2         3\n",
      "0  0.954271  0.836011  0.014325  0.973875\n",
      "1  0.782721  0.602013  0.204418  0.042397\n",
      "2  0.448645  0.233172  0.739034  0.826048\n",
      "3  0.993388  0.682705  0.101670  0.868136\n"
     ]
    }
   ],
   "source": [
    "## 1. Create a pandas dataframe('df') with numpy random values (4 features and 4 obs)\n",
    "import numpy as np\n",
    "import pandas as pd\n",
    "\n",
    "n1=pd.Series(np.random.rand(4))\n",
    "n2=pd.Series(np.random.rand(4))\n",
    "n3=pd.Series(np.random.rand(4))\n",
    "n4=pd.Series(np.random.rand(4))\n",
    "df=pd.DataFrame([n1,n2,n3,n4])\n",
    "print(df)"
   ]
  },
  {
   "cell_type": "code",
   "execution_count": 35,
   "id": "28b86c4f",
   "metadata": {},
   "outputs": [
    {
     "data": {
      "text/html": [
       "<div>\n",
       "<style scoped>\n",
       "    .dataframe tbody tr th:only-of-type {\n",
       "        vertical-align: middle;\n",
       "    }\n",
       "\n",
       "    .dataframe tbody tr th {\n",
       "        vertical-align: top;\n",
       "    }\n",
       "\n",
       "    .dataframe thead th {\n",
       "        text-align: right;\n",
       "    }\n",
       "</style>\n",
       "<table border=\"1\" class=\"dataframe\">\n",
       "  <thead>\n",
       "    <tr style=\"text-align: right;\">\n",
       "      <th></th>\n",
       "      <th>Random value 1</th>\n",
       "      <th>Random value 2</th>\n",
       "      <th>Random value 3</th>\n",
       "      <th>Random value 4</th>\n",
       "    </tr>\n",
       "  </thead>\n",
       "  <tbody>\n",
       "    <tr>\n",
       "      <th>0</th>\n",
       "      <td>0.954271</td>\n",
       "      <td>0.836011</td>\n",
       "      <td>0.014325</td>\n",
       "      <td>0.973875</td>\n",
       "    </tr>\n",
       "    <tr>\n",
       "      <th>1</th>\n",
       "      <td>0.782721</td>\n",
       "      <td>0.602013</td>\n",
       "      <td>0.204418</td>\n",
       "      <td>0.042397</td>\n",
       "    </tr>\n",
       "    <tr>\n",
       "      <th>2</th>\n",
       "      <td>0.448645</td>\n",
       "      <td>0.233172</td>\n",
       "      <td>0.739034</td>\n",
       "      <td>0.826048</td>\n",
       "    </tr>\n",
       "    <tr>\n",
       "      <th>3</th>\n",
       "      <td>0.993388</td>\n",
       "      <td>0.682705</td>\n",
       "      <td>0.101670</td>\n",
       "      <td>0.868136</td>\n",
       "    </tr>\n",
       "  </tbody>\n",
       "</table>\n",
       "</div>"
      ],
      "text/plain": [
       "   Random value 1  Random value 2  Random value 3  Random value 4\n",
       "0        0.954271        0.836011        0.014325        0.973875\n",
       "1        0.782721        0.602013        0.204418        0.042397\n",
       "2        0.448645        0.233172        0.739034        0.826048\n",
       "3        0.993388        0.682705        0.101670        0.868136"
      ]
     },
     "execution_count": 35,
     "metadata": {},
     "output_type": "execute_result"
    }
   ],
   "source": [
    "## 2. Rename the task-1 'df' dataframe columns to Random value 1, Random value 2, Random value 3, Random value 4\n",
    "df.columns=['Random value 1','Random value 2','Random value 3','Random value 4']\n",
    "df"
   ]
  },
  {
   "cell_type": "code",
   "execution_count": 36,
   "id": "95872ec7",
   "metadata": {},
   "outputs": [
    {
     "name": "stdout",
     "output_type": "stream",
     "text": [
      "<class 'pandas.core.frame.DataFrame'>\n",
      "RangeIndex: 4 entries, 0 to 3\n",
      "Data columns (total 4 columns):\n",
      " #   Column          Non-Null Count  Dtype  \n",
      "---  ------          --------------  -----  \n",
      " 0   Random value 1  4 non-null      float64\n",
      " 1   Random value 2  4 non-null      float64\n",
      " 2   Random value 3  4 non-null      float64\n",
      " 3   Random value 4  4 non-null      float64\n",
      "dtypes: float64(4)\n",
      "memory usage: 256.0 bytes\n"
     ]
    }
   ],
   "source": [
    "## 3. Find the desciptive statistics of the 'df' dataframe\n",
    "df.info()"
   ]
  },
  {
   "cell_type": "code",
   "execution_count": 37,
   "id": "3cee8ebb",
   "metadata": {},
   "outputs": [
    {
     "data": {
      "text/html": [
       "<div>\n",
       "<style scoped>\n",
       "    .dataframe tbody tr th:only-of-type {\n",
       "        vertical-align: middle;\n",
       "    }\n",
       "\n",
       "    .dataframe tbody tr th {\n",
       "        vertical-align: top;\n",
       "    }\n",
       "\n",
       "    .dataframe thead th {\n",
       "        text-align: right;\n",
       "    }\n",
       "</style>\n",
       "<table border=\"1\" class=\"dataframe\">\n",
       "  <thead>\n",
       "    <tr style=\"text-align: right;\">\n",
       "      <th></th>\n",
       "      <th>Random value 1</th>\n",
       "      <th>Random value 2</th>\n",
       "      <th>Random value 3</th>\n",
       "      <th>Random value 4</th>\n",
       "    </tr>\n",
       "  </thead>\n",
       "  <tbody>\n",
       "    <tr>\n",
       "      <th>count</th>\n",
       "      <td>4.000000</td>\n",
       "      <td>4.000000</td>\n",
       "      <td>4.000000</td>\n",
       "      <td>4.000000</td>\n",
       "    </tr>\n",
       "    <tr>\n",
       "      <th>mean</th>\n",
       "      <td>0.794756</td>\n",
       "      <td>0.588475</td>\n",
       "      <td>0.264862</td>\n",
       "      <td>0.677614</td>\n",
       "    </tr>\n",
       "    <tr>\n",
       "      <th>std</th>\n",
       "      <td>0.248219</td>\n",
       "      <td>0.255980</td>\n",
       "      <td>0.325522</td>\n",
       "      <td>0.428020</td>\n",
       "    </tr>\n",
       "    <tr>\n",
       "      <th>min</th>\n",
       "      <td>0.448645</td>\n",
       "      <td>0.233172</td>\n",
       "      <td>0.014325</td>\n",
       "      <td>0.042397</td>\n",
       "    </tr>\n",
       "    <tr>\n",
       "      <th>25%</th>\n",
       "      <td>0.699202</td>\n",
       "      <td>0.509803</td>\n",
       "      <td>0.079834</td>\n",
       "      <td>0.630135</td>\n",
       "    </tr>\n",
       "    <tr>\n",
       "      <th>50%</th>\n",
       "      <td>0.868496</td>\n",
       "      <td>0.642359</td>\n",
       "      <td>0.153044</td>\n",
       "      <td>0.847092</td>\n",
       "    </tr>\n",
       "    <tr>\n",
       "      <th>75%</th>\n",
       "      <td>0.964051</td>\n",
       "      <td>0.721031</td>\n",
       "      <td>0.338072</td>\n",
       "      <td>0.894570</td>\n",
       "    </tr>\n",
       "    <tr>\n",
       "      <th>max</th>\n",
       "      <td>0.993388</td>\n",
       "      <td>0.836011</td>\n",
       "      <td>0.739034</td>\n",
       "      <td>0.973875</td>\n",
       "    </tr>\n",
       "  </tbody>\n",
       "</table>\n",
       "</div>"
      ],
      "text/plain": [
       "       Random value 1  Random value 2  Random value 3  Random value 4\n",
       "count        4.000000        4.000000        4.000000        4.000000\n",
       "mean         0.794756        0.588475        0.264862        0.677614\n",
       "std          0.248219        0.255980        0.325522        0.428020\n",
       "min          0.448645        0.233172        0.014325        0.042397\n",
       "25%          0.699202        0.509803        0.079834        0.630135\n",
       "50%          0.868496        0.642359        0.153044        0.847092\n",
       "75%          0.964051        0.721031        0.338072        0.894570\n",
       "max          0.993388        0.836011        0.739034        0.973875"
      ]
     },
     "execution_count": 37,
     "metadata": {},
     "output_type": "execute_result"
    }
   ],
   "source": [
    "df.describe()"
   ]
  },
  {
   "cell_type": "code",
   "execution_count": 38,
   "id": "ab7843f3",
   "metadata": {},
   "outputs": [
    {
     "name": "stdout",
     "output_type": "stream",
     "text": [
      "   Random value 1  Random value 2  Random value 3  Random value 4\n",
      "0           False           False           False           False\n",
      "1           False           False           False           False\n",
      "2           False           False           False           False\n",
      "3           False           False           False           False \n",
      "\n",
      "Random value 1    float64\n",
      "Random value 2    float64\n",
      "Random value 3    float64\n",
      "Random value 4    float64\n",
      "dtype: object\n"
     ]
    }
   ],
   "source": [
    "## 4. Check the null values in 'df' and find the datatype of the columns\n",
    "print(df.isnull(),\"\\n\")\n",
    "print(df.dtypes)"
   ]
  },
  {
   "cell_type": "code",
   "execution_count": 39,
   "id": "889ee50e",
   "metadata": {},
   "outputs": [
    {
     "name": "stdout",
     "output_type": "stream",
     "text": [
      "   Random value 2  Random value 3\n",
      "0        0.836011        0.014325\n",
      "1        0.602013        0.204418\n",
      "2        0.233172        0.739034\n",
      "3        0.682705        0.101670\n"
     ]
    }
   ],
   "source": [
    "## 5. Display the 'Random value 2' & 'Random value 3' columns with location method and index location method.\n",
    "print(df.iloc[:,[1,2]])"
   ]
  },
  {
   "cell_type": "code",
   "execution_count": 40,
   "id": "46bc803e",
   "metadata": {},
   "outputs": [
    {
     "name": "stdout",
     "output_type": "stream",
     "text": [
      "   Random value 2  Random value 3\n",
      "0        0.836011        0.014325\n",
      "1        0.602013        0.204418\n",
      "2        0.233172        0.739034\n",
      "3        0.682705        0.101670\n"
     ]
    }
   ],
   "source": [
    "print(df.loc[:,[\"Random value 2\",\"Random value 3\"]])"
   ]
  },
  {
   "cell_type": "code",
   "execution_count": null,
   "id": "cfd03aa6",
   "metadata": {},
   "outputs": [],
   "source": []
  }
 ],
 "metadata": {
  "kernelspec": {
   "display_name": "Python 3",
   "language": "python",
   "name": "python3"
  },
  "language_info": {
   "codemirror_mode": {
    "name": "ipython",
    "version": 3
   },
   "file_extension": ".py",
   "mimetype": "text/x-python",
   "name": "python",
   "nbconvert_exporter": "python",
   "pygments_lexer": "ipython3",
   "version": "3.9.12"
  }
 },
 "nbformat": 4,
 "nbformat_minor": 5
}
